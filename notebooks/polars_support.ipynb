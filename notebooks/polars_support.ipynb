{
 "cells": [
  {
   "cell_type": "markdown",
   "id": "b0548e84-6e93-43a6-82a1-877695db2f9b",
   "metadata": {},
   "source": [
    "## Polars scitype's\n",
    "\n",
    "The representations of time series in sktime for polars mtype are:\n",
    "1. \"pl.DataFrame\" - scitype : Series\n",
    "2. \"polars_panel\" - scitype : Panel\n",
    "3. \"polars_hierarchical\" - scitype : Hierarchical\n",
    "\n",
    "As polars doesn't support index in dataframe, the index is stored as a column with notation `__index__{name}` in the dataframe"
   ]
  },
  {
   "cell_type": "code",
   "execution_count": 1,
   "id": "ad8516e9-f0d1-40b8-80fb-7ca7a62410e7",
   "metadata": {},
   "outputs": [],
   "source": [
    "# import to retrieve polars examples\n",
    "from sktime.datatypes import get_examples"
   ]
  },
  {
   "cell_type": "markdown",
   "id": "b288311c",
   "metadata": {},
   "source": [
    "### mtype 'pl.DataFrame'"
   ]
  },
  {
   "cell_type": "markdown",
   "id": "62efba7e",
   "metadata": {},
   "source": [
    "Example of a univariate series in \"pl.DataFrame\" representation. The single variable has name \"a\", and is observed at four time points 0, 1, 2, 3 with column representing index names as `__index__0`"
   ]
  },
  {
   "cell_type": "code",
   "execution_count": 2,
   "id": "c9cbc7e2",
   "metadata": {},
   "outputs": [
    {
     "data": {
      "text/html": [
       "<div><style>\n",
       ".dataframe > thead > tr,\n",
       ".dataframe > tbody > tr {\n",
       "  text-align: right;\n",
       "  white-space: pre-wrap;\n",
       "}\n",
       "</style>\n",
       "<small>shape: (4, 2)</small><table border=\"1\" class=\"dataframe\"><thead><tr><th>__index__0</th><th>a</th></tr><tr><td>i64</td><td>f64</td></tr></thead><tbody><tr><td>0</td><td>1.0</td></tr><tr><td>1</td><td>4.0</td></tr><tr><td>2</td><td>0.5</td></tr><tr><td>3</td><td>-3.0</td></tr></tbody></table></div>"
      ],
      "text/plain": [
       "shape: (4, 2)\n",
       "┌────────────┬──────┐\n",
       "│ __index__0 ┆ a    │\n",
       "│ ---        ┆ ---  │\n",
       "│ i64        ┆ f64  │\n",
       "╞════════════╪══════╡\n",
       "│ 0          ┆ 1.0  │\n",
       "│ 1          ┆ 4.0  │\n",
       "│ 2          ┆ 0.5  │\n",
       "│ 3          ┆ -3.0 │\n",
       "└────────────┴──────┘"
      ]
     },
     "execution_count": 2,
     "metadata": {},
     "output_type": "execute_result"
    }
   ],
   "source": [
    "## Time series in \"pl.DataFrame\" mtype\n",
    "get_examples(mtype=\"pl.DataFrame\", as_scitype=\"Series\")[0]"
   ]
  },
  {
   "cell_type": "markdown",
   "id": "ab95cd4b",
   "metadata": {},
   "source": [
    "Example of a bivariate series in \"pd.DataFrame\" representation. This series has two variables, named \"a\" and \"b\". Both are observed at the same four time points 0, 1, 2, 3 with column representing index names as `__index__0`"
   ]
  },
  {
   "cell_type": "code",
   "execution_count": 3,
   "id": "775b58cf",
   "metadata": {},
   "outputs": [
    {
     "data": {
      "text/html": [
       "<div><style>\n",
       ".dataframe > thead > tr,\n",
       ".dataframe > tbody > tr {\n",
       "  text-align: right;\n",
       "  white-space: pre-wrap;\n",
       "}\n",
       "</style>\n",
       "<small>shape: (4, 3)</small><table border=\"1\" class=\"dataframe\"><thead><tr><th>__index__0</th><th>a</th><th>b</th></tr><tr><td>i64</td><td>f64</td><td>f64</td></tr></thead><tbody><tr><td>0</td><td>1.0</td><td>3.0</td></tr><tr><td>1</td><td>4.0</td><td>7.0</td></tr><tr><td>2</td><td>0.5</td><td>2.0</td></tr><tr><td>3</td><td>-3.0</td><td>-0.428571</td></tr></tbody></table></div>"
      ],
      "text/plain": [
       "shape: (4, 3)\n",
       "┌────────────┬──────┬───────────┐\n",
       "│ __index__0 ┆ a    ┆ b         │\n",
       "│ ---        ┆ ---  ┆ ---       │\n",
       "│ i64        ┆ f64  ┆ f64       │\n",
       "╞════════════╪══════╪═══════════╡\n",
       "│ 0          ┆ 1.0  ┆ 3.0       │\n",
       "│ 1          ┆ 4.0  ┆ 7.0       │\n",
       "│ 2          ┆ 0.5  ┆ 2.0       │\n",
       "│ 3          ┆ -3.0 ┆ -0.428571 │\n",
       "└────────────┴──────┴───────────┘"
      ]
     },
     "execution_count": 3,
     "metadata": {},
     "output_type": "execute_result"
    }
   ],
   "source": [
    "get_examples(mtype=\"pl.DataFrame\", as_scitype=\"Series\")[1]"
   ]
  },
  {
   "cell_type": "markdown",
   "id": "628d85e9",
   "metadata": {},
   "source": [
    "### mtype 'polars_panel'\n",
    "\n",
    "Representation of time series panel in polars mtype"
   ]
  },
  {
   "cell_type": "code",
   "execution_count": 5,
   "id": "0995f7a6",
   "metadata": {},
   "outputs": [
    {
     "data": {
      "text/html": [
       "<div><style>\n",
       ".dataframe > thead > tr,\n",
       ".dataframe > tbody > tr {\n",
       "  text-align: right;\n",
       "  white-space: pre-wrap;\n",
       "}\n",
       "</style>\n",
       "<small>shape: (9, 4)</small><table border=\"1\" class=\"dataframe\"><thead><tr><th>__index__instances</th><th>__index__timepoints</th><th>var_0</th><th>var_1</th></tr><tr><td>i64</td><td>i64</td><td>i64</td><td>i64</td></tr></thead><tbody><tr><td>0</td><td>0</td><td>1</td><td>4</td></tr><tr><td>0</td><td>1</td><td>2</td><td>5</td></tr><tr><td>0</td><td>2</td><td>3</td><td>6</td></tr><tr><td>1</td><td>0</td><td>1</td><td>4</td></tr><tr><td>1</td><td>1</td><td>2</td><td>55</td></tr><tr><td>1</td><td>2</td><td>3</td><td>6</td></tr><tr><td>2</td><td>0</td><td>1</td><td>42</td></tr><tr><td>2</td><td>1</td><td>2</td><td>5</td></tr><tr><td>2</td><td>2</td><td>3</td><td>6</td></tr></tbody></table></div>"
      ],
      "text/plain": [
       "shape: (9, 4)\n",
       "┌────────────────────┬─────────────────────┬───────┬───────┐\n",
       "│ __index__instances ┆ __index__timepoints ┆ var_0 ┆ var_1 │\n",
       "│ ---                ┆ ---                 ┆ ---   ┆ ---   │\n",
       "│ i64                ┆ i64                 ┆ i64   ┆ i64   │\n",
       "╞════════════════════╪═════════════════════╪═══════╪═══════╡\n",
       "│ 0                  ┆ 0                   ┆ 1     ┆ 4     │\n",
       "│ 0                  ┆ 1                   ┆ 2     ┆ 5     │\n",
       "│ 0                  ┆ 2                   ┆ 3     ┆ 6     │\n",
       "│ 1                  ┆ 0                   ┆ 1     ┆ 4     │\n",
       "│ 1                  ┆ 1                   ┆ 2     ┆ 55    │\n",
       "│ 1                  ┆ 2                   ┆ 3     ┆ 6     │\n",
       "│ 2                  ┆ 0                   ┆ 1     ┆ 42    │\n",
       "│ 2                  ┆ 1                   ┆ 2     ┆ 5     │\n",
       "│ 2                  ┆ 2                   ┆ 3     ┆ 6     │\n",
       "└────────────────────┴─────────────────────┴───────┴───────┘"
      ]
     },
     "execution_count": 5,
     "metadata": {},
     "output_type": "execute_result"
    }
   ],
   "source": [
    "get_examples(mtype=\"polars_panel\", as_scitype=\"Panel\")[0]"
   ]
  },
  {
   "cell_type": "markdown",
   "id": "3fe4c843",
   "metadata": {},
   "source": [
    "### mtype 'polars_hierarchical'\n",
    "representation of time series in polars mtype with hierarchical index"
   ]
  },
  {
   "cell_type": "code",
   "execution_count": 6,
   "id": "29ae086b",
   "metadata": {},
   "outputs": [
    {
     "data": {
      "text/html": [
       "<div><style>\n",
       ".dataframe > thead > tr,\n",
       ".dataframe > tbody > tr {\n",
       "  text-align: right;\n",
       "  white-space: pre-wrap;\n",
       "}\n",
       "</style>\n",
       "<small>shape: (18, 5)</small><table border=\"1\" class=\"dataframe\"><thead><tr><th>__index__foo</th><th>__index__bar</th><th>__index__timepoints</th><th>var_0</th><th>var_1</th></tr><tr><td>str</td><td>i64</td><td>i64</td><td>i64</td><td>i64</td></tr></thead><tbody><tr><td>&quot;a&quot;</td><td>0</td><td>0</td><td>1</td><td>4</td></tr><tr><td>&quot;a&quot;</td><td>0</td><td>1</td><td>2</td><td>5</td></tr><tr><td>&quot;a&quot;</td><td>0</td><td>2</td><td>3</td><td>6</td></tr><tr><td>&quot;a&quot;</td><td>1</td><td>0</td><td>1</td><td>4</td></tr><tr><td>&quot;a&quot;</td><td>1</td><td>1</td><td>2</td><td>55</td></tr><tr><td>&hellip;</td><td>&hellip;</td><td>&hellip;</td><td>&hellip;</td><td>&hellip;</td></tr><tr><td>&quot;b&quot;</td><td>1</td><td>1</td><td>2</td><td>55</td></tr><tr><td>&quot;b&quot;</td><td>1</td><td>2</td><td>3</td><td>6</td></tr><tr><td>&quot;b&quot;</td><td>2</td><td>0</td><td>1</td><td>42</td></tr><tr><td>&quot;b&quot;</td><td>2</td><td>1</td><td>2</td><td>5</td></tr><tr><td>&quot;b&quot;</td><td>2</td><td>2</td><td>3</td><td>6</td></tr></tbody></table></div>"
      ],
      "text/plain": [
       "shape: (18, 5)\n",
       "┌──────────────┬──────────────┬─────────────────────┬───────┬───────┐\n",
       "│ __index__foo ┆ __index__bar ┆ __index__timepoints ┆ var_0 ┆ var_1 │\n",
       "│ ---          ┆ ---          ┆ ---                 ┆ ---   ┆ ---   │\n",
       "│ str          ┆ i64          ┆ i64                 ┆ i64   ┆ i64   │\n",
       "╞══════════════╪══════════════╪═════════════════════╪═══════╪═══════╡\n",
       "│ a            ┆ 0            ┆ 0                   ┆ 1     ┆ 4     │\n",
       "│ a            ┆ 0            ┆ 1                   ┆ 2     ┆ 5     │\n",
       "│ a            ┆ 0            ┆ 2                   ┆ 3     ┆ 6     │\n",
       "│ a            ┆ 1            ┆ 0                   ┆ 1     ┆ 4     │\n",
       "│ a            ┆ 1            ┆ 1                   ┆ 2     ┆ 55    │\n",
       "│ …            ┆ …            ┆ …                   ┆ …     ┆ …     │\n",
       "│ b            ┆ 1            ┆ 1                   ┆ 2     ┆ 55    │\n",
       "│ b            ┆ 1            ┆ 2                   ┆ 3     ┆ 6     │\n",
       "│ b            ┆ 2            ┆ 0                   ┆ 1     ┆ 42    │\n",
       "│ b            ┆ 2            ┆ 1                   ┆ 2     ┆ 5     │\n",
       "│ b            ┆ 2            ┆ 2                   ┆ 3     ┆ 6     │\n",
       "└──────────────┴──────────────┴─────────────────────┴───────┴───────┘"
      ]
     },
     "execution_count": 6,
     "metadata": {},
     "output_type": "execute_result"
    }
   ],
   "source": [
    "get_examples(mtype=\"polars_hierarchical\", as_scitype=\"Hierarchical\")[0]"
   ]
  },
  {
   "cell_type": "markdown",
   "id": "6f85d058",
   "metadata": {},
   "source": [
    "### Polars conversions\n",
    "\n",
    "Users can convert polars mtype to pandas mtype with `convert` and `convert_to` functions in sktime"
   ]
  },
  {
   "cell_type": "code",
   "execution_count": 8,
   "id": "01f98d5f",
   "metadata": {},
   "outputs": [],
   "source": [
    "from sktime.datatypes._convert import convert_to\n",
    "\n",
    "# Load pandas examples\n",
    "pd_series = get_examples(mtype=\"pd.Series\", as_scitype=\"Series\")[0]"
   ]
  },
  {
   "cell_type": "code",
   "execution_count": 13,
   "id": "9dc60fd9",
   "metadata": {},
   "outputs": [
    {
     "data": {
      "text/html": [
       "<div><style>\n",
       ".dataframe > thead > tr,\n",
       ".dataframe > tbody > tr {\n",
       "  text-align: right;\n",
       "  white-space: pre-wrap;\n",
       "}\n",
       "</style>\n",
       "<small>shape: (4, 2)</small><table border=\"1\" class=\"dataframe\"><thead><tr><th>__index__0</th><th>a</th></tr><tr><td>i64</td><td>f64</td></tr></thead><tbody><tr><td>0</td><td>1.0</td></tr><tr><td>1</td><td>4.0</td></tr><tr><td>2</td><td>0.5</td></tr><tr><td>3</td><td>-3.0</td></tr></tbody></table></div>"
      ],
      "text/plain": [
       "shape: (4, 2)\n",
       "┌────────────┬──────┐\n",
       "│ __index__0 ┆ a    │\n",
       "│ ---        ┆ ---  │\n",
       "│ i64        ┆ f64  │\n",
       "╞════════════╪══════╡\n",
       "│ 0          ┆ 1.0  │\n",
       "│ 1          ┆ 4.0  │\n",
       "│ 2          ┆ 0.5  │\n",
       "│ 3          ┆ -3.0 │\n",
       "└────────────┴──────┘"
      ]
     },
     "execution_count": 13,
     "metadata": {},
     "output_type": "execute_result"
    }
   ],
   "source": [
    "# convert to polars with convert_to\n",
    "pl_series = convert_to(pd_series, to_type=\"pl.DataFrame\")\n",
    "pl_series"
   ]
  },
  {
   "cell_type": "markdown",
   "id": "6de3920d",
   "metadata": {},
   "source": [
    "This conversion is used to fit polars mtypes in sktime estimators, by converting polars mtype to estimators supported mtype, which is pandas mtype"
   ]
  },
  {
   "cell_type": "code",
   "execution_count": 26,
   "id": "31388f89",
   "metadata": {},
   "outputs": [],
   "source": [
    "# \n",
    "from sktime.datasets import load_airline\n",
    "\n",
    "# Load longley dataset and convert to polars\n",
    "y = load_airline()\n",
    "pl_y = convert_to(longley, to_type=\"pl.DataFrame\")"
   ]
  },
  {
   "cell_type": "code",
   "execution_count": 27,
   "id": "919275fd",
   "metadata": {},
   "outputs": [
    {
     "data": {
      "text/html": [
       "<div><style>\n",
       ".dataframe > thead > tr,\n",
       ".dataframe > tbody > tr {\n",
       "  text-align: right;\n",
       "  white-space: pre-wrap;\n",
       "}\n",
       "</style>\n",
       "<small>shape: (144, 2)</small><table border=\"1\" class=\"dataframe\"><thead><tr><th>__index__Period</th><th>Number of airline passengers</th></tr><tr><td>datetime[ns]</td><td>f64</td></tr></thead><tbody><tr><td>1949-01-31 00:00:00</td><td>112.0</td></tr><tr><td>1949-02-28 00:00:00</td><td>118.0</td></tr><tr><td>1949-03-31 00:00:00</td><td>132.0</td></tr><tr><td>1949-04-30 00:00:00</td><td>129.0</td></tr><tr><td>1949-05-31 00:00:00</td><td>121.0</td></tr><tr><td>&hellip;</td><td>&hellip;</td></tr><tr><td>1960-08-31 00:00:00</td><td>606.0</td></tr><tr><td>1960-09-30 00:00:00</td><td>508.0</td></tr><tr><td>1960-10-31 00:00:00</td><td>461.0</td></tr><tr><td>1960-11-30 00:00:00</td><td>390.0</td></tr><tr><td>1960-12-31 00:00:00</td><td>432.0</td></tr></tbody></table></div>"
      ],
      "text/plain": [
       "shape: (144, 2)\n",
       "┌─────────────────────┬──────────────────────────────┐\n",
       "│ __index__Period     ┆ Number of airline passengers │\n",
       "│ ---                 ┆ ---                          │\n",
       "│ datetime[ns]        ┆ f64                          │\n",
       "╞═════════════════════╪══════════════════════════════╡\n",
       "│ 1949-01-31 00:00:00 ┆ 112.0                        │\n",
       "│ 1949-02-28 00:00:00 ┆ 118.0                        │\n",
       "│ 1949-03-31 00:00:00 ┆ 132.0                        │\n",
       "│ 1949-04-30 00:00:00 ┆ 129.0                        │\n",
       "│ 1949-05-31 00:00:00 ┆ 121.0                        │\n",
       "│ …                   ┆ …                            │\n",
       "│ 1960-08-31 00:00:00 ┆ 606.0                        │\n",
       "│ 1960-09-30 00:00:00 ┆ 508.0                        │\n",
       "│ 1960-10-31 00:00:00 ┆ 461.0                        │\n",
       "│ 1960-11-30 00:00:00 ┆ 390.0                        │\n",
       "│ 1960-12-31 00:00:00 ┆ 432.0                        │\n",
       "└─────────────────────┴──────────────────────────────┘"
      ]
     },
     "execution_count": 27,
     "metadata": {},
     "output_type": "execute_result"
    }
   ],
   "source": [
    "pl_y"
   ]
  },
  {
   "cell_type": "code",
   "execution_count": 28,
   "id": "6f79f2bd",
   "metadata": {},
   "outputs": [
    {
     "data": {
      "text/html": [
       "<style>#sk-c55fc464-a6fb-4341-b32e-c09328f247b4 {color: black;background-color: white;}#sk-c55fc464-a6fb-4341-b32e-c09328f247b4 pre{padding: 0;}#sk-c55fc464-a6fb-4341-b32e-c09328f247b4 div.sk-toggleable {background-color: white;}#sk-c55fc464-a6fb-4341-b32e-c09328f247b4 label.sk-toggleable__label {cursor: pointer;display: block;width: 100%;margin-bottom: 0;padding: 0.3em;box-sizing: border-box;text-align: center;}#sk-c55fc464-a6fb-4341-b32e-c09328f247b4 label.sk-toggleable__label-arrow:before {content: \"▸\";float: left;margin-right: 0.25em;color: #696969;}#sk-c55fc464-a6fb-4341-b32e-c09328f247b4 label.sk-toggleable__label-arrow:hover:before {color: black;}#sk-c55fc464-a6fb-4341-b32e-c09328f247b4 div.sk-estimator:hover label.sk-toggleable__label-arrow:before {color: black;}#sk-c55fc464-a6fb-4341-b32e-c09328f247b4 div.sk-toggleable__content {max-height: 0;max-width: 0;overflow: hidden;text-align: left;background-color: #f0f8ff;}#sk-c55fc464-a6fb-4341-b32e-c09328f247b4 div.sk-toggleable__content pre {margin: 0.2em;color: black;border-radius: 0.25em;background-color: #f0f8ff;}#sk-c55fc464-a6fb-4341-b32e-c09328f247b4 input.sk-toggleable__control:checked~div.sk-toggleable__content {max-height: 200px;max-width: 100%;overflow: auto;}#sk-c55fc464-a6fb-4341-b32e-c09328f247b4 input.sk-toggleable__control:checked~label.sk-toggleable__label-arrow:before {content: \"▾\";}#sk-c55fc464-a6fb-4341-b32e-c09328f247b4 div.sk-estimator input.sk-toggleable__control:checked~label.sk-toggleable__label {background-color: #d4ebff;}#sk-c55fc464-a6fb-4341-b32e-c09328f247b4 div.sk-label input.sk-toggleable__control:checked~label.sk-toggleable__label {background-color: #d4ebff;}#sk-c55fc464-a6fb-4341-b32e-c09328f247b4 input.sk-hidden--visually {border: 0;clip: rect(1px 1px 1px 1px);clip: rect(1px, 1px, 1px, 1px);height: 1px;margin: -1px;overflow: hidden;padding: 0;position: absolute;width: 1px;}#sk-c55fc464-a6fb-4341-b32e-c09328f247b4 div.sk-estimator {font-family: monospace;background-color: #f0f8ff;border: 1px dotted black;border-radius: 0.25em;box-sizing: border-box;margin-bottom: 0.5em;}#sk-c55fc464-a6fb-4341-b32e-c09328f247b4 div.sk-estimator:hover {background-color: #d4ebff;}#sk-c55fc464-a6fb-4341-b32e-c09328f247b4 div.sk-parallel-item::after {content: \"\";width: 100%;border-bottom: 1px solid gray;flex-grow: 1;}#sk-c55fc464-a6fb-4341-b32e-c09328f247b4 div.sk-label:hover label.sk-toggleable__label {background-color: #d4ebff;}#sk-c55fc464-a6fb-4341-b32e-c09328f247b4 div.sk-serial::before {content: \"\";position: absolute;border-left: 1px solid gray;box-sizing: border-box;top: 2em;bottom: 0;left: 50%;}#sk-c55fc464-a6fb-4341-b32e-c09328f247b4 div.sk-serial {display: flex;flex-direction: column;align-items: center;background-color: white;padding-right: 0.2em;padding-left: 0.2em;}#sk-c55fc464-a6fb-4341-b32e-c09328f247b4 div.sk-item {z-index: 1;}#sk-c55fc464-a6fb-4341-b32e-c09328f247b4 div.sk-parallel {display: flex;align-items: stretch;justify-content: center;background-color: white;}#sk-c55fc464-a6fb-4341-b32e-c09328f247b4 div.sk-parallel::before {content: \"\";position: absolute;border-left: 1px solid gray;box-sizing: border-box;top: 2em;bottom: 0;left: 50%;}#sk-c55fc464-a6fb-4341-b32e-c09328f247b4 div.sk-parallel-item {display: flex;flex-direction: column;position: relative;background-color: white;}#sk-c55fc464-a6fb-4341-b32e-c09328f247b4 div.sk-parallel-item:first-child::after {align-self: flex-end;width: 50%;}#sk-c55fc464-a6fb-4341-b32e-c09328f247b4 div.sk-parallel-item:last-child::after {align-self: flex-start;width: 50%;}#sk-c55fc464-a6fb-4341-b32e-c09328f247b4 div.sk-parallel-item:only-child::after {width: 0;}#sk-c55fc464-a6fb-4341-b32e-c09328f247b4 div.sk-dashed-wrapped {border: 1px dashed gray;margin: 0 0.4em 0.5em 0.4em;box-sizing: border-box;padding-bottom: 0.4em;background-color: white;position: relative;}#sk-c55fc464-a6fb-4341-b32e-c09328f247b4 div.sk-label label {font-family: monospace;font-weight: bold;background-color: white;display: inline-block;line-height: 1.2em;}#sk-c55fc464-a6fb-4341-b32e-c09328f247b4 div.sk-label-container {position: relative;z-index: 2;text-align: center;}#sk-c55fc464-a6fb-4341-b32e-c09328f247b4 div.sk-container {/* jupyter's `normalize.less` sets `[hidden] { display: none; }` but bootstrap.min.css set `[hidden] { display: none !important; }` so we also need the `!important` here to be able to override the default hidden behavior on the sphinx rendered scikit-learn.org. See: https://github.com/scikit-learn/scikit-learn/issues/21755 */display: inline-block !important;position: relative;}#sk-c55fc464-a6fb-4341-b32e-c09328f247b4 div.sk-text-repr-fallback {display: none;}</style><div id='sk-c55fc464-a6fb-4341-b32e-c09328f247b4' class=\"sk-top-container\"><div class=\"sk-text-repr-fallback\"><pre>AutoETS(auto=True, sp=12)</pre><b>Please rerun this cell to show the HTML repr or trust the notebook.</b></div><div class=\"sk-container\" hidden><div class='sk-item'><div class=\"sk-estimator sk-toggleable\"><input class=\"sk-toggleable__control sk-hidden--visually\" id=UUID('dc35d848-7dbc-4e17-a317-fd2e499306fe') type=\"checkbox\" checked><label for=UUID('dc35d848-7dbc-4e17-a317-fd2e499306fe') class='sk-toggleable__label sk-toggleable__label-arrow'>AutoETS</label><div class=\"sk-toggleable__content\"><pre>AutoETS(auto=True, sp=12)</pre></div></div></div></div></div>"
      ],
      "text/plain": [
       "AutoETS(auto=True, sp=12)"
      ]
     },
     "execution_count": 28,
     "metadata": {},
     "output_type": "execute_result"
    }
   ],
   "source": [
    "# Load Autoets forecaster from sktime and fit polars DataFrame\n",
    "from sktime.forecasting.ets import AutoETS\n",
    "\n",
    "forecaster = AutoETS(auto=True, sp=12)\n",
    "forecaster.fit(pl_y)"
   ]
  },
  {
   "cell_type": "code",
   "execution_count": 29,
   "id": "6e1fa65c",
   "metadata": {},
   "outputs": [],
   "source": [
    "pred = forecaster.predict(fh=[1, 2, 3])"
   ]
  },
  {
   "cell_type": "code",
   "execution_count": 30,
   "id": "1ecf26bc",
   "metadata": {},
   "outputs": [
    {
     "data": {
      "text/html": [
       "<div><style>\n",
       ".dataframe > thead > tr,\n",
       ".dataframe > tbody > tr {\n",
       "  text-align: right;\n",
       "  white-space: pre-wrap;\n",
       "}\n",
       "</style>\n",
       "<small>shape: (3, 2)</small><table border=\"1\" class=\"dataframe\"><thead><tr><th>__index__0</th><th>0</th></tr><tr><td>datetime[ns]</td><td>f64</td></tr></thead><tbody><tr><td>1961-01-31 00:00:00</td><td>442.773517</td></tr><tr><td>1961-02-28 00:00:00</td><td>435.899071</td></tr><tr><td>1961-03-31 00:00:00</td><td>498.814416</td></tr></tbody></table></div>"
      ],
      "text/plain": [
       "shape: (3, 2)\n",
       "┌─────────────────────┬────────────┐\n",
       "│ __index__0          ┆ 0          │\n",
       "│ ---                 ┆ ---        │\n",
       "│ datetime[ns]        ┆ f64        │\n",
       "╞═════════════════════╪════════════╡\n",
       "│ 1961-01-31 00:00:00 ┆ 442.773517 │\n",
       "│ 1961-02-28 00:00:00 ┆ 435.899071 │\n",
       "│ 1961-03-31 00:00:00 ┆ 498.814416 │\n",
       "└─────────────────────┴────────────┘"
      ]
     },
     "execution_count": 30,
     "metadata": {},
     "output_type": "execute_result"
    }
   ],
   "source": [
    "# The predictions are also returned as polars DataFrame\n",
    "pred"
   ]
  }
 ],
 "metadata": {
  "kernelspec": {
   "display_name": "moirai-test",
   "language": "python",
   "name": "python3"
  },
  "language_info": {
   "codemirror_mode": {
    "name": "ipython",
    "version": 3
   },
   "file_extension": ".py",
   "mimetype": "text/x-python",
   "name": "python",
   "nbconvert_exporter": "python",
   "pygments_lexer": "ipython3",
   "version": "3.11.9"
  }
 },
 "nbformat": 4,
 "nbformat_minor": 5
}
